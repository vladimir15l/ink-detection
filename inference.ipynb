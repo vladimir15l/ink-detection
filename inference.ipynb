{
 "cells": [
  {
   "cell_type": "markdown",
   "metadata": {
    "_cell_guid": "8d2dcc9a-1258-43e6-9f94-dad53d20e18b",
    "_uuid": "688b3259-7326-4a5e-be2e-f36387c37532"
   },
   "source": [
    "### Imports"
   ]
  },
  {
   "cell_type": "code",
   "execution_count": null,
   "metadata": {
    "_cell_guid": "609e8c81-b897-488c-9824-4b92a9ce1927",
    "_uuid": "68d8bc8d-1c31-4913-ad2c-83a9566b03be",
    "execution": {
     "iopub.execute_input": "2023-05-23T22:48:51.284301Z",
     "iopub.status.busy": "2023-05-23T22:48:51.283634Z",
     "iopub.status.idle": "2023-05-23T22:48:53.949858Z",
     "shell.execute_reply": "2023-05-23T22:48:53.948602Z",
     "shell.execute_reply.started": "2023-05-23T22:48:51.284243Z"
    },
    "jupyter": {
     "outputs_hidden": false
    }
   },
   "outputs": [],
   "source": [
    "import os\n",
    "import gc\n",
    "import glob\n",
    "import json\n",
    "from collections import defaultdict\n",
    "import multiprocessing as mp\n",
    "from pathlib import Path\n",
    "from types import SimpleNamespace\n",
    "from typing import Dict, List, Optional, Tuple\n",
    "import warnings\n",
    "\n",
    "import matplotlib.pyplot as plt\n",
    "import matplotlib.patches as patches\n",
    "import numpy as np\n",
    "import pandas as pd\n",
    "import PIL.Image as Image\n",
    "from sklearn.metrics import fbeta_score\n",
    "from sklearn.exceptions import UndefinedMetricWarning\n",
    "import torch\n",
    "import torch.nn as nn\n",
    "import torch.optim as optim\n",
    "import torch.utils.data as thd\n",
    "from tqdm import tqdm"
   ]
  },
  {
   "cell_type": "markdown",
   "metadata": {
    "_cell_guid": "d4fcddf9-eca3-41ac-b2b4-684a4a0daef4",
    "_uuid": "f8967355-6392-4040-a54a-35c70e4856d8"
   },
   "source": [
    "### Set up data"
   ]
  },
  {
   "cell_type": "code",
   "execution_count": null,
   "metadata": {
    "execution": {
     "iopub.execute_input": "2023-05-23T22:48:53.952983Z",
     "iopub.status.busy": "2023-05-23T22:48:53.952279Z",
     "iopub.status.idle": "2023-05-23T22:48:53.962951Z",
     "shell.execute_reply": "2023-05-23T22:48:53.961424Z",
     "shell.execute_reply.started": "2023-05-23T22:48:53.952947Z"
    }
   },
   "outputs": [],
   "source": [
    "def function_clear(train, valid):\n",
    "    if train and 'train_dset' in [globals(), locals()]:\n",
    "        train_dset.labels = None\n",
    "        train_dset.fragments = None\n",
    "        train_dset.image_stacks = None\n",
    "        train_dset.pixels = None\n",
    "        train_loader = None\n",
    "        del train_loader, train_dset\n",
    "        print('train is clear')\n",
    "    if valid and 'eval_dset' in [globals(), locals()]:\n",
    "        eval_dset.labels = None\n",
    "        eval_dset.fragments = None\n",
    "        eval_dset.image_stacks = None\n",
    "        eval_dset.pixels = None\n",
    "        eval_loader = None\n",
    "        del eval_loader, eval_dset\n",
    "        print('valid is clear')\n",
    "    gc.collect()"
   ]
  },
  {
   "cell_type": "code",
   "execution_count": null,
   "metadata": {
    "execution": {
     "iopub.execute_input": "2023-05-23T22:48:53.965009Z",
     "iopub.status.busy": "2023-05-23T22:48:53.964554Z",
     "iopub.status.idle": "2023-05-23T22:48:54.265106Z",
     "shell.execute_reply": "2023-05-23T22:48:54.263646Z",
     "shell.execute_reply.started": "2023-05-23T22:48:53.964973Z"
    }
   },
   "outputs": [],
   "source": [
    "function_clear(True, True)\n",
    "BATCH_SIZE = 32"
   ]
  },
  {
   "cell_type": "code",
   "execution_count": null,
   "metadata": {
    "_cell_guid": "d68caff3-a704-4454-895d-a304bf516be8",
    "_uuid": "01d48e04-3089-46ec-8cc0-95da8ff14f80",
    "execution": {
     "iopub.execute_input": "2023-05-23T22:48:54.268266Z",
     "iopub.status.busy": "2023-05-23T22:48:54.267819Z",
     "iopub.status.idle": "2023-05-23T22:48:54.303754Z",
     "shell.execute_reply": "2023-05-23T22:48:54.302305Z",
     "shell.execute_reply.started": "2023-05-23T22:48:54.268212Z"
    },
    "jupyter": {
     "outputs_hidden": false
    }
   },
   "outputs": [],
   "source": [
    "class SubvolumeDataset(thd.Dataset):\n",
    "    def __init__(\n",
    "        self,\n",
    "        fragments: List[Path],\n",
    "        voxel_shape: Tuple[int, int, int],\n",
    "        load_inklabels: bool = True,\n",
    "        filter_edge_pixels: bool = False,\n",
    "    ):\n",
    "        self.fragments = sorted(map(lambda path: path.resolve(), fragments))\n",
    "        self.voxel_shape = voxel_shape\n",
    "        self.load_inklabels = load_inklabels\n",
    "        self.filter_edge_pixels = filter_edge_pixels\n",
    "\n",
    "        # Load sequentially\n",
    "        labels = []\n",
    "        image_stacks = []\n",
    "        valid_pixels = []\n",
    "        for fragment_id, fragment_path in enumerate(self.fragments):\n",
    "            fragment_path = fragment_path.resolve()  # absolute path\n",
    "            mask = np.array(Image.open(str(fragment_path / \"mask.png\")).convert(\"1\"))\n",
    "\n",
    "            surface_volume_paths = sorted(\n",
    "                (fragment_path / \"surface_volume\").rglob(\"*.tif\")\n",
    "            )\n",
    "            z_dim, y_dim, x_dim = voxel_shape\n",
    "\n",
    "            z_mid = len(surface_volume_paths) // 2\n",
    "            z_start, z_end = z_dim - z_mid, len(surface_volume_paths)\n",
    "            surface_volume_paths = np.array(surface_volume_paths)\n",
    "            indexs = np.array([2*i for i in range(len(surface_volume_paths)//2)])\n",
    "            surface_volume_paths = surface_volume_paths[indexs]\n",
    "            # we don't convert to torch since it doesn't support uint16\n",
    "            images = [\n",
    "                np.array(Image.open(fn)) for fn in surface_volume_paths\n",
    "            ]\n",
    "            image_stack = np.stack(images, axis=0)\n",
    "            image_stacks.append(image_stack)\n",
    "\n",
    "            pixels = np.stack(np.where(mask == 1), axis=1).astype(np.uint16)\n",
    "            if filter_edge_pixels:\n",
    "                height, width = mask.shape\n",
    "                mask_y = np.logical_or(\n",
    "                    pixels[:, 0] < y_dim // 2, pixels[:, 0] >= height - y_dim // 2\n",
    "                )\n",
    "                mask_x = np.logical_or(\n",
    "                    pixels[:, 1] < x_dim // 2, pixels[:, 1] >= width - x_dim // 2\n",
    "                )\n",
    "                pixel_mask = np.logical_or(mask_y, mask_x)\n",
    "                pixels = pixels[~pixel_mask]\n",
    "            # encode fragment ID\n",
    "            fragment_ids = np.full_like(pixels[:, 0:1], fragment_id)\n",
    "            pixels = np.concatenate((pixels, fragment_ids), axis=1)\n",
    "            valid_pixels.append(pixels)\n",
    "\n",
    "            if load_inklabels:\n",
    "                # binary mask can be stored as np.bool\n",
    "                inklabels = (\n",
    "                    np.array(Image.open(str(fragment_path / \"inklabels.png\"))) > 0\n",
    "                )\n",
    "                labels.append(inklabels)\n",
    "\n",
    "            print(f\"Loaded fragment {fragment_path} on {os.getpid()}\")\n",
    "\n",
    "        self.labels = labels\n",
    "        self.image_stacks = image_stacks\n",
    "        self.pixels = np.concatenate(valid_pixels).reshape(\n",
    "            -1, valid_pixels[0].shape[-1]\n",
    "        )\n",
    "\n",
    "    def __len__(self):\n",
    "        return len(self.pixels)\n",
    "\n",
    "    def __getitem__(self, index):\n",
    "        center_y, center_x, fragment_id = self.pixels[index]\n",
    "        z_dim, y_dim, x_dim = self.voxel_shape\n",
    "        image_stack = self.image_stacks[fragment_id]\n",
    "        _, height, width = image_stack.shape\n",
    "\n",
    "        # pad with zeros if necessary\n",
    "        if (\n",
    "            center_y < y_dim // 2\n",
    "            or center_x < x_dim // 2\n",
    "            or center_y + y_dim // 2 >= height\n",
    "            or center_x + x_dim // 2 >= width\n",
    "        ):\n",
    "            # calculate the upper-left corner of the sub-volume\n",
    "            y_start = max(center_y - y_dim // 2, 0)\n",
    "            x_start = max(center_x - x_dim // 2, 0)\n",
    "\n",
    "            # calculate the lower-right corner of the sub-volume\n",
    "            y_end = min(center_y + y_dim // 2, height)\n",
    "            x_end = min(center_x + x_dim // 2, width)\n",
    "\n",
    "            subvolume = np.zeros(self.voxel_shape, dtype=np.float32)\n",
    "\n",
    "            pad_y_start = max(y_dim // 2 - center_y, 0)\n",
    "            pad_x_start = max(x_dim // 2 - center_x, 0)\n",
    "\n",
    "            pad_y_end = min(height + y_dim // 2 - center_y, y_dim)\n",
    "            pad_x_end = min(width + x_dim // 2 - center_x, x_dim)\n",
    "\n",
    "            subvolume[:, pad_y_start:pad_y_end, pad_x_start:pad_x_end] = (\n",
    "                image_stack[:, y_start:y_end, x_start:x_end].astype(np.float32) / 65535\n",
    "            )\n",
    "\n",
    "        else:\n",
    "            subvolume = (\n",
    "                image_stack[\n",
    "                    :,\n",
    "                    center_y - y_dim // 2 : center_y + y_dim // 2,\n",
    "                    center_x - x_dim // 2 : center_x + x_dim // 2,\n",
    "                ]\n",
    "            ).astype(np.float32) / 65535\n",
    "        if self.load_inklabels:\n",
    "            inklabel = float(self.labels[fragment_id][center_y, center_x])\n",
    "        else:\n",
    "            inklabel = -1.0\n",
    "\n",
    "        return torch.from_numpy(subvolume).unsqueeze(0), torch.FloatTensor([inklabel])\n",
    "\n",
    "    def plot_label(self, index, **kwargs):\n",
    "        pixel = self.pixels[index]\n",
    "        label = self.labels[pixel[-1]]\n",
    "\n",
    "        print(\"Index:\", index)\n",
    "        print(\"Pixel:\", pixel)\n",
    "        print(\"Label:\", int(label[pixel[0], pixel[1]]))\n",
    "\n",
    "        if isinstance(label, torch.Tensor):\n",
    "            label = label.numpy()\n",
    "\n",
    "        fig, ax = plt.subplots(**kwargs)\n",
    "        ax.imshow(label, cmap=\"gray\")\n",
    "\n",
    "        y, x, _ = pixel\n",
    "        _, y_dim, x_dim = self.voxel_shape\n",
    "        x_min = x - (x_dim // 2)\n",
    "        x_max = x + (x_dim // 2)\n",
    "        y_min = y - (y_dim // 2)\n",
    "        y_max = y + (y_dim // 2)\n",
    "\n",
    "        rect = plt.Rectangle(\n",
    "            (x_min, y_min), x_dim, y_dim, linewidth=2, edgecolor=\"y\", facecolor=\"none\"\n",
    "        )\n",
    "        ax.add_patch(rect)\n",
    "        plt.show()"
   ]
  },
  {
   "cell_type": "code",
   "execution_count": null,
   "metadata": {},
   "outputs": [],
   "source": [
    "base_path = Path(\"/kaggle/input/vesuvius-challenge-ink-detection/\")\n",
    "train_path = base_path / \"train\"\n",
    "all_fragments = sorted([f.name for f in train_path.iterdir()])\n",
    "print(\"All fragments:\", all_fragments)\n",
    "# Due to limited memory on Kaggle, we can only load 1 full fragment\n",
    "train_fragments = [train_path / fragment_name for fragment_name in [\"1\", \"3\"]]\n",
    "train_fragments"
   ]
  },
  {
   "cell_type": "code",
   "execution_count": null,
   "metadata": {},
   "outputs": [],
   "source": [
    "%%time\n",
    "train_dset = SubvolumeDataset(fragments=train_fragments, voxel_shape=(32, 32, 32), filter_edge_pixels=True)\n",
    "print(\"Num items (pixels)\", len(train_dset))"
   ]
  },
  {
   "cell_type": "code",
   "execution_count": null,
   "metadata": {},
   "outputs": [],
   "source": [
    "BATCH_SIZE = 32\n",
    "train_loader = thd.DataLoader(train_dset, batch_size=BATCH_SIZE, shuffle=True)\n",
    "print(\"Num batches:\", len(train_loader))"
   ]
  },
  {
   "cell_type": "markdown",
   "metadata": {
    "_cell_guid": "a4b32d42-ba32-4cd7-8d14-2f2a65be38dc",
    "_uuid": "d3306e3c-7096-453c-961c-906e590114b4"
   },
   "source": [
    "### Set up model"
   ]
  },
  {
   "cell_type": "code",
   "execution_count": null,
   "metadata": {
    "_cell_guid": "c18f64ce-1f56-457b-969f-ac0406daf6c8",
    "_uuid": "e8e414c7-089a-43e1-a277-149892990f27",
    "execution": {
     "iopub.execute_input": "2023-05-23T22:48:54.308295Z",
     "iopub.status.busy": "2023-05-23T22:48:54.307816Z",
     "iopub.status.idle": "2023-05-23T22:48:54.319932Z",
     "shell.execute_reply": "2023-05-23T22:48:54.318403Z",
     "shell.execute_reply.started": "2023-05-23T22:48:54.308258Z"
    },
    "jupyter": {
     "outputs_hidden": false
    }
   },
   "outputs": [],
   "source": [
    "DEVICE = torch.device(\"cuda\" if torch.cuda.is_available() else \"cpu\")"
   ]
  },
  {
   "cell_type": "code",
   "execution_count": null,
   "metadata": {
    "_cell_guid": "b86b1225-0f22-4200-88a1-0aa5064d93c7",
    "_uuid": "7591f661-79b5-4128-b05f-c0e054a80c5a",
    "execution": {
     "iopub.execute_input": "2023-05-23T22:48:54.322161Z",
     "iopub.status.busy": "2023-05-23T22:48:54.321767Z",
     "iopub.status.idle": "2023-05-23T22:48:54.335322Z",
     "shell.execute_reply": "2023-05-23T22:48:54.333823Z",
     "shell.execute_reply.started": "2023-05-23T22:48:54.322128Z"
    },
    "jupyter": {
     "outputs_hidden": false
    }
   },
   "outputs": [],
   "source": [
    "class InkDetector(torch.nn.Module):\n",
    "    def __init__(self):\n",
    "        super().__init__()\n",
    "\n",
    "        filters = [16, 32, 32, 64]\n",
    "        paddings = [1, 1, 1, 1]\n",
    "        kernel_sizes = [3, 3, 3, 3]\n",
    "        strides = [2, 2, 2, 2]\n",
    "        \n",
    "        layers = []\n",
    "        in_channels = 1\n",
    "        for i, (num_filters, padding, kernel_size, stride) in enumerate(zip(filters, paddings, kernel_sizes, strides)):\n",
    "            layers.extend([\n",
    "                nn.Conv3d(\n",
    "                    in_channels=in_channels,\n",
    "                    out_channels=in_channels,\n",
    "                    kernel_size=kernel_size,\n",
    "                    stride=stride,\n",
    "                    padding=padding,\n",
    "                    groups = in_channels\n",
    "                ),\n",
    "                nn.Conv3d(\n",
    "                    in_channels=in_channels,\n",
    "                    out_channels=num_filters,\n",
    "                    kernel_size=1,\n",
    "                ),\n",
    "                nn.LeakyReLU(inplace=True),\n",
    "                torch.nn.BatchNorm3d(num_features=num_filters)    \n",
    "            ])\n",
    "            in_channels = num_filters\n",
    "        layers.append(nn.AdaptiveAvgPool3d(1))\n",
    "        layers.append(nn.Flatten())\n",
    "\n",
    "        self.encoder = nn.Sequential(*layers)\n",
    "        self.decoder = nn.Sequential(\n",
    "            nn.Linear(in_channels, 128),\n",
    "            nn.LeakyReLU(inplace=True),\n",
    "            nn.Linear(128, 1)\n",
    "        )\n",
    "\n",
    "    def forward(self, x):\n",
    "        features = self.encoder(x)\n",
    "        return self.decoder(features)"
   ]
  },
  {
   "cell_type": "code",
   "execution_count": null,
   "metadata": {
    "_cell_guid": "a9c853e3-2b3c-4bc1-96ae-7c120cb32a01",
    "_uuid": "6caf9bab-67e6-4360-9279-b58501c478ac",
    "execution": {
     "iopub.execute_input": "2023-05-23T22:48:54.337765Z",
     "iopub.status.busy": "2023-05-23T22:48:54.337344Z",
     "iopub.status.idle": "2023-05-23T22:48:54.412548Z",
     "shell.execute_reply": "2023-05-23T22:48:54.411403Z",
     "shell.execute_reply.started": "2023-05-23T22:48:54.337716Z"
    },
    "jupyter": {
     "outputs_hidden": false
    }
   },
   "outputs": [],
   "source": [
    "model = InkDetector()"
   ]
  },
  {
   "cell_type": "markdown",
   "metadata": {
    "_cell_guid": "fd2f499e-2da6-4585-b74d-a42fe30d9918",
    "_uuid": "1f45a608-c99c-4acd-9268-43f7d8862d1f"
   },
   "source": [
    "### Train"
   ]
  },
  {
   "cell_type": "code",
   "execution_count": null,
   "metadata": {
    "_cell_guid": "4ded06a2-bbbc-4c57-a6cf-483eb121df34",
    "_uuid": "a7153e52-633d-4518-a9be-dab1724bc562",
    "execution": {
     "iopub.execute_input": "2023-05-23T22:48:54.414482Z",
     "iopub.status.busy": "2023-05-23T22:48:54.414066Z",
     "iopub.status.idle": "2023-05-23T22:48:54.419595Z",
     "shell.execute_reply": "2023-05-23T22:48:54.418468Z",
     "shell.execute_reply.started": "2023-05-23T22:48:54.414442Z"
    },
    "jupyter": {
     "outputs_hidden": false
    }
   },
   "outputs": [],
   "source": [
    "TRAIN_UNLOAD = True\n",
    "TRAINING_STEPS = 100000\n",
    "LEARNING_RATE = 1e-3\n",
    "TRAIN_RUN = False # To avoid re-running when saving the notebook"
   ]
  },
  {
   "cell_type": "code",
   "execution_count": null,
   "metadata": {
    "_cell_guid": "867565ca-259a-4c62-8e0c-26c398d1907b",
    "_uuid": "012532b4-01d6-4e96-8274-101056c43f59",
    "execution": {
     "iopub.execute_input": "2023-05-23T22:48:54.42211Z",
     "iopub.status.busy": "2023-05-23T22:48:54.421718Z",
     "iopub.status.idle": "2023-05-23T22:48:54.434111Z",
     "shell.execute_reply": "2023-05-23T22:48:54.432746Z",
     "shell.execute_reply.started": "2023-05-23T22:48:54.422077Z"
    },
    "jupyter": {
     "outputs_hidden": false
    }
   },
   "outputs": [],
   "source": [
    "warnings.simplefilter('ignore', UndefinedMetricWarning)"
   ]
  },
  {
   "cell_type": "code",
   "execution_count": null,
   "metadata": {},
   "outputs": [],
   "source": [
    "if TRAIN_RUN:\n",
    "    criterion = nn.BCEWithLogitsLoss()\n",
    "    optimizer = optim.Adam(model.parameters(), lr=LEARNING_RATE, betas=(0.9, 0.999), weight_decay=0.0002)\n",
    "    scheduler = torch.optim.lr_scheduler.OneCycleLR(optimizer, max_lr=LEARNING_RATE, total_steps=TRAINING_STEPS)\n",
    "    model.train()\n",
    "    running_loss = 0.0\n",
    "    running_accuracy = 0.0\n",
    "    running_fbeta = 0.0\n",
    "    denom = 0\n",
    "    pbar = tqdm(enumerate(train_loader), total=TRAINING_STEPS)\n",
    "    for i, (subvolumes, inklabels) in pbar:\n",
    "        if i >= TRAINING_STEPS:\n",
    "            break\n",
    "        optimizer.zero_grad()\n",
    "        outputs = model(subvolumes.to(DEVICE))\n",
    "        loss = criterion(outputs, inklabels.to(DEVICE))\n",
    "        loss.backward()\n",
    "        optimizer.step()\n",
    "        scheduler.step()\n",
    "        pred_ink = outputs.detach().sigmoid().gt(0.4).cpu().int()\n",
    "        accuracy = (pred_ink == inklabels).sum().float().div(inklabels.size(0))\n",
    "        running_fbeta += fbeta_score(inklabels.view(-1).numpy(), pred_ink.view(-1).numpy(), beta=0.5)\n",
    "        running_accuracy += accuracy.item()\n",
    "        running_loss += loss.item()\n",
    "        denom += 1\n",
    "        pbar.set_postfix({\"Loss\": running_loss / denom, \"Accuracy\": running_accuracy / denom, \"Fbeta@0.5\": running_fbeta / denom})\n",
    "        if (i + 1) % 500 == 0:\n",
    "            running_loss = 0.\n",
    "            running_accuracy = 0.\n",
    "            running_fbeta = 0.\n",
    "            denom = 0\n",
    "\n",
    "    torch.save(model.state_dict(), \"/kaggle/working/model.pt\")\n",
    "\n",
    "else:\n",
    "    model_weights = torch.load(\"/kaggle/input/models/model.pt\")\n",
    "    model.load_state_dict(model_weights)"
   ]
  },
  {
   "cell_type": "code",
   "execution_count": null,
   "metadata": {
    "execution": {
     "iopub.execute_input": "2023-05-23T22:48:54.43649Z",
     "iopub.status.busy": "2023-05-23T22:48:54.435952Z",
     "iopub.status.idle": "2023-05-23T22:48:54.451453Z",
     "shell.execute_reply": "2023-05-23T22:48:54.449889Z",
     "shell.execute_reply.started": "2023-05-23T22:48:54.436443Z"
    }
   },
   "outputs": [],
   "source": [
    "print(DEVICE)\n",
    "def count_parameters(model):\n",
    "    return sum(p.numel() for p in model.parameters() if p.requires_grad)\n",
    "print(count_parameters(model))"
   ]
  },
  {
   "cell_type": "code",
   "execution_count": null,
   "metadata": {
    "execution": {
     "iopub.execute_input": "2023-05-23T22:48:54.453606Z",
     "iopub.status.busy": "2023-05-23T22:48:54.453068Z",
     "iopub.status.idle": "2023-05-23T22:48:54.777091Z",
     "shell.execute_reply": "2023-05-23T22:48:54.775489Z",
     "shell.execute_reply.started": "2023-05-23T22:48:54.453558Z"
    }
   },
   "outputs": [],
   "source": [
    "model = model.to(DEVICE)\n",
    "torch.cuda.empty_cache()\n",
    "gc.collect()"
   ]
  },
  {
   "cell_type": "code",
   "execution_count": null,
   "metadata": {
    "_cell_guid": "aa321605-4e08-4a0f-9df5-79f7fa19831e",
    "_uuid": "75a2f329-4860-45af-865d-35d9d06ba369",
    "execution": {
     "iopub.execute_input": "2023-05-23T22:48:54.779562Z",
     "iopub.status.busy": "2023-05-23T22:48:54.778986Z",
     "iopub.status.idle": "2023-05-23T22:48:55.073841Z",
     "shell.execute_reply": "2023-05-23T22:48:55.072659Z",
     "shell.execute_reply.started": "2023-05-23T22:48:54.779507Z"
    },
    "jupyter": {
     "outputs_hidden": false
    }
   },
   "outputs": [],
   "source": [
    "function_clear(True, True)"
   ]
  },
  {
   "cell_type": "code",
   "execution_count": null,
   "metadata": {
    "_cell_guid": "9999254e-d860-40db-baf3-d8f5600987a7",
    "_uuid": "22ece545-d963-4f55-84e3-a37ed22253e0",
    "execution": {
     "iopub.execute_input": "2023-05-23T22:54:23.48383Z",
     "iopub.status.busy": "2023-05-23T22:54:23.482866Z",
     "iopub.status.idle": "2023-05-23T22:54:23.492984Z",
     "shell.execute_reply": "2023-05-23T22:54:23.491688Z",
     "shell.execute_reply.started": "2023-05-23T22:54:23.483784Z"
    },
    "jupyter": {
     "outputs_hidden": false
    }
   },
   "outputs": [],
   "source": [
    "base_path = Path(\"/kaggle/input/vesuvius-challenge-ink-detection\")\n",
    "test_path = base_path / \"test\"\n",
    "test_fragments = [test_path / fragment_name for fragment_name in test_path.iterdir()]\n",
    "print(\"All fragments:\", test_fragments)"
   ]
  },
  {
   "cell_type": "code",
   "execution_count": null,
   "metadata": {
    "_cell_guid": "bb4ad493-30e7-4add-972c-39ca50401240",
    "_uuid": "10bded31-41a9-4a4f-bca2-1bcd322f497e",
    "execution": {
     "iopub.status.busy": "2023-05-23T22:48:55.373285Z",
     "iopub.status.idle": "2023-05-23T22:48:55.374583Z",
     "shell.execute_reply": "2023-05-23T22:48:55.374241Z",
     "shell.execute_reply.started": "2023-05-23T22:48:55.374203Z"
    },
    "jupyter": {
     "outputs_hidden": false
    }
   },
   "outputs": [],
   "source": [
    "pred_images = []\n",
    "model.eval()\n",
    "for test_fragment in test_fragments:\n",
    "    outputs = []\n",
    "    eval_dset = SubvolumeDataset(fragments=[test_fragment], voxel_shape=(32, 32, 32), load_inklabels=False)\n",
    "    eval_loader = thd.DataLoader(eval_dset, batch_size=BATCH_SIZE, shuffle=False)\n",
    "    with torch.no_grad():\n",
    "        pbar = tqdm(eval_loader, total=len(eval_loader))\n",
    "        for i, (subvolumes, _) in enumerate(pbar):\n",
    "            output = model(subvolumes.to(DEVICE)).view(-1).sigmoid().cpu().numpy()\n",
    "            outputs.append(output)\n",
    "    # we only load 1 fragment at a time\n",
    "    image_shape = eval_dset.image_stacks[0].shape[1:]\n",
    "    eval_dset.labels = None\n",
    "    eval_dset.image_stacks = None\n",
    "    del eval_loader\n",
    "    gc.collect()\n",
    "\n",
    "    pred_image = np.zeros(image_shape, dtype=np.uint8)\n",
    "    outputs = np.concatenate(outputs)\n",
    "    for (y, x, _), prob in zip(eval_dset.pixels[:outputs.shape[0]], outputs):\n",
    "        pred_image[y ,x] = prob > 0.45\n",
    "    pred_images.append(pred_image)\n",
    "    \n",
    "    eval_dset.pixels = None\n",
    "    del eval_dset\n",
    "    gc.collect()\n",
    "    print(\"Finished\", test_fragment)"
   ]
  },
  {
   "cell_type": "markdown",
   "metadata": {
    "_cell_guid": "5cba3aaa-ee8f-44f2-aeaf-b5d888f4581c",
    "_uuid": "e7a5390c-0ef0-40f0-b935-3c672affc7b5"
   },
   "source": [
    "### Submission"
   ]
  },
  {
   "cell_type": "code",
   "execution_count": null,
   "metadata": {
    "_cell_guid": "8ac550e9-9966-47a1-926a-c76249891181",
    "_uuid": "1a0c4c55-8fdb-463a-95d8-1d299aea6e15",
    "execution": {
     "iopub.status.busy": "2023-05-23T22:48:55.375913Z",
     "iopub.status.idle": "2023-05-23T22:48:55.376552Z",
     "shell.execute_reply": "2023-05-23T22:48:55.376255Z",
     "shell.execute_reply.started": "2023-05-23T22:48:55.376225Z"
    },
    "jupyter": {
     "outputs_hidden": false
    }
   },
   "outputs": [],
   "source": [
    "def rle(output):\n",
    "    flat_img = np.where(output > 0.4, 1, 0).astype(np.uint8)\n",
    "    flat_img = flat_img.flatten()\n",
    "    starts = np.array((flat_img[:-1] == 0) & (flat_img[1:] == 1))\n",
    "    ends = np.array((flat_img[:-1] == 1) & (flat_img[1:] == 0))\n",
    "    starts_ix = np.where(starts)[0] + 2\n",
    "    ends_ix = np.where(ends)[0] + 2\n",
    "    lengths = ends_ix - starts_ix\n",
    "    return \" \".join(map(str, sum(zip(starts_ix, lengths), ())))"
   ]
  },
  {
   "cell_type": "code",
   "execution_count": null,
   "metadata": {
    "_cell_guid": "a877e562-55d5-4ab5-8dbb-8f1f66d38ed2",
    "_uuid": "2b5d817e-a11e-4f7b-bf1b-32e4fdc5527b",
    "execution": {
     "iopub.status.busy": "2023-05-23T22:48:55.378262Z",
     "iopub.status.idle": "2023-05-23T22:48:55.378868Z",
     "shell.execute_reply": "2023-05-23T22:48:55.378609Z",
     "shell.execute_reply.started": "2023-05-23T22:48:55.37858Z"
    },
    "jupyter": {
     "outputs_hidden": false
    }
   },
   "outputs": [],
   "source": [
    "submission = defaultdict(list)\n",
    "for fragment_id, fragment_name in enumerate(test_fragments):\n",
    "    submission[\"Id\"].append(fragment_name.name)\n",
    "    submission[\"Predicted\"].append(rle(pred_images[fragment_id]))\n",
    "\n",
    "pd.DataFrame.from_dict(submission).to_csv(\"/kaggle/working/submission.csv\", index=False)"
   ]
  },
  {
   "cell_type": "code",
   "execution_count": null,
   "metadata": {
    "_cell_guid": "582f8e9d-f239-4eba-bf02-174fd4c51cb0",
    "_uuid": "53a38469-366d-4c10-bb37-62d5847438fa",
    "execution": {
     "iopub.status.busy": "2023-05-23T22:48:55.381117Z",
     "iopub.status.idle": "2023-05-23T22:48:55.381714Z",
     "shell.execute_reply": "2023-05-23T22:48:55.381451Z",
     "shell.execute_reply.started": "2023-05-23T22:48:55.381423Z"
    },
    "jupyter": {
     "outputs_hidden": false
    }
   },
   "outputs": [],
   "source": [
    "pd.DataFrame.from_dict(submission)\n"
   ]
  }
 ],
 "metadata": {
  "kernelspec": {
   "display_name": "Python 3 (ipykernel)",
   "language": "python",
   "name": "python3"
  },
  "language_info": {
   "codemirror_mode": {
    "name": "ipython",
    "version": 3
   },
   "file_extension": ".py",
   "mimetype": "text/x-python",
   "name": "python",
   "nbconvert_exporter": "python",
   "pygments_lexer": "ipython3",
   "version": "3.9.12"
  }
 },
 "nbformat": 4,
 "nbformat_minor": 4
}
